{
  "nbformat": 4,
  "nbformat_minor": 0,
  "metadata": {
    "kernelspec": {
      "display_name": "Python 3",
      "language": "python",
      "name": "python3"
    },
    "language_info": {
      "codemirror_mode": {
        "name": "ipython",
        "version": 3
      },
      "file_extension": ".py",
      "mimetype": "text/x-python",
      "name": "python",
      "nbconvert_exporter": "python",
      "pygments_lexer": "ipython3",
      "version": "3.6.8"
    },
    "colab": {
      "name": "Convert_Panels_EN_to_KML.ipynb",
      "provenance": []
    }
  },
  "cells": [
    {
      "cell_type": "markdown",
      "metadata": {
        "id": "rpKG3FQUKeyE",
        "colab_type": "text"
      },
      "source": [
        "**Notebook to convert eastings and northigns to Lat long and display them in a KML file that can be opened in Google Earth.**\n",
        "\n",
        "what you will need to run this script:\n",
        "\n",
        "\n",
        "*   the northings and eastings in order\n",
        "*   the panel names in the corresponding order\n",
        "*   The correct projection (in our case AZ Central State Plane meters\n",
        "*   You will have to define the site name 'RCXXXX'\n",
        "*   You will have to type in the year of the panel image\n",
        "*   You will have to provide an output directory\n",
        "\n",
        "\n",
        "In order to generate a rectification you need to develop a homography between the real-world (surveyed) GCP or panel coordinates and the UV (image) coordinates of those same GCPs or Panels from the image of the GCPs. In order to get the UV coordinates of the panels, the current workflow uses ENVI where you select the pixel which contains the GCPs to get the exact UV coordinates for the impts array. This aids in that by creating a KML file in google earth so you can see where the surveyed panels are on the bar, since the numbers on the panels are not visible in the image, it is also a good check to make sure you have your Eastings in northings in the correct order and that they line up with the real world location of the sandbar in question.\n",
        "\n",
        "This script converts an array of map points np.array([Easting,Northing])\n",
        "into a kml google earth file. The purpose of this is to visualize the \n",
        "surveyed panel locations."
      ]
    },
    {
      "cell_type": "code",
      "metadata": {
        "id": "-Q4wjW0HdyEo",
        "colab_type": "code",
        "colab": {}
      },
      "source": [
        "# if not already installed, install simplekml which creates .kml files\n",
        "#!pip install simplekml\n",
        "# if not already installed, install pyproj which allows you to get the correct projection\n",
        "#!pip install pyproj\n",
        "\n",
        "from pyproj import CRS\n",
        "import numpy as np\n",
        "import simplekml\n",
        "import os"
      ],
      "execution_count": 39,
      "outputs": []
    },
    {
      "cell_type": "code",
      "metadata": {
        "id": "jtcQkxyePQzT",
        "colab_type": "code",
        "colab": {
          "base_uri": "https://localhost:8080/",
          "height": 34
        },
        "outputId": "3bb90c38-3a9b-4eaa-a461-2e0d9bce2117"
      },
      "source": [
        "'''This is an optional step if you are working on googleColab\n",
        "if you are working on your local machine you can skip this but make sure to select an output directory\n",
        "'''\n",
        "# mount google drive\n",
        "from google.colab import drive\n",
        "drive.mount('/content/drive')"
      ],
      "execution_count": 40,
      "outputs": [
        {
          "output_type": "stream",
          "text": [
            "Drive already mounted at /content/drive; to attempt to forcibly remount, call drive.mount(\"/content/drive\", force_remount=True).\n"
          ],
          "name": "stdout"
        }
      ]
    },
    {
      "cell_type": "code",
      "metadata": {
        "id": "Ap7QM-8XKmE7",
        "colab_type": "code",
        "colab": {
          "base_uri": "https://localhost:8080/",
          "height": 34
        },
        "outputId": "ca0f03a4-0399-4006-e559-faf80e97c9a8"
      },
      "source": [
        "site_name_string = input(\"Please type a string containing the site name RCXXXXXX:\")"
      ],
      "execution_count": 41,
      "outputs": [
        {
          "output_type": "stream",
          "text": [
            "Please type a string containing the site name RCXXXXXX:RC0307Rf\n"
          ],
          "name": "stdout"
        }
      ]
    },
    {
      "cell_type": "code",
      "metadata": {
        "id": "prvDZw5JKs-b",
        "colab_type": "code",
        "colab": {
          "base_uri": "https://localhost:8080/",
          "height": 34
        },
        "outputId": "3a14658e-6c64-48a6-b5c7-5ededb134041"
      },
      "source": [
        "year_string = input(\"Please type in the year the panels were placed: \")"
      ],
      "execution_count": 42,
      "outputs": [
        {
          "output_type": "stream",
          "text": [
            "Please type in the year the panels were placed: 2019\n"
          ],
          "name": "stdout"
        }
      ]
    },
    {
      "cell_type": "code",
      "metadata": {
        "id": "ZI8hQR_4PC2K",
        "colab_type": "code",
        "colab": {
          "base_uri": "https://localhost:8080/",
          "height": 34
        },
        "outputId": "68e84af7-7f06-4e9b-dc59-71ab9ce753c2"
      },
      "source": [
        "Output_dir = input(\"Please provide a pathway, where kml should be saved as a string with '\\\\\\' or '/' as os.sep:\")"
      ],
      "execution_count": 43,
      "outputs": [
        {
          "output_type": "stream",
          "text": [
            "Please provide a pathway, where kml should be saved as a string with '\\' or '/' as os.sep:/content/drive/My Drive/Colab_Notebooks/Rectification/RC0307Rf\n"
          ],
          "name": "stdout"
        }
      ]
    },
    {
      "cell_type": "code",
      "metadata": {
        "id": "y4ut4LMsdyEt",
        "colab_type": "code",
        "colab": {
          "base_uri": "https://localhost:8080/",
          "height": 54
        },
        "outputId": "0e932cdf-829b-4bc4-ed42-ff379ef2b9f2"
      },
      "source": [
        "'''\n",
        "** here is where you put an array of lists of the map-points np.array([Easting1, northing1],[Easting2, northing2],...)\n",
        "** then you out a list of the panel names in the same order as strings [\"p1\",\"p2\",...]\n",
        "** you can also change the size of the buffer here, by default its set at 30 meters\n",
        " the chosen buffer value is subtracted from the minNorthing and the minEasting, and added to the maxNorthing and maxEasting\n",
        " the buffer gives you a MaxNE and a MinNE which will be the size of your rectified image after rectification\n",
        "'''\n",
        "#####################################\n",
        "site = site_name_string\n",
        "year = int(year_string)\n",
        "extent_buffer_in_meters = 30\n",
        "\n",
        "\n",
        "\n",
        "mappts = np.array([\n",
        "[219542.644,611803.324],\n",
        "[219542.917,611790.645],\n",
        "[219540.663,611778.078],\n",
        "[219522.509,611775.796],\n",
        "[219520.759,611764.155],\n",
        "[219515.123,611754.640],\n",
        "[219529.343,611747.805],\n",
        "[219515.438,611733.189],\n",
        "[219541.495,611757.829],\n",
        "[219542.715,611735.480],\n",
        "[219549.039,611767.098],\n",
        "[219571.880,611771.835]\n",
        "])\n",
        "\n",
        "extent_buffer_in_meters = 30\n",
        "\n",
        "\n",
        "\n",
        "panels = [\n",
        "'p13',\n",
        "'p30',\n",
        "'p23',\n",
        "'p16',\n",
        "'p17',\n",
        "'p21',\n",
        "'p24',\n",
        "'p18',\n",
        "'p19',\n",
        "'p14',\n",
        "'p15',\n",
        "'p20',\n",
        "]\n",
        "\n",
        "# create the point names by concatenating the panel name to the site name and year\n",
        "point_names = []\n",
        "for point in panels:\n",
        "    name = str(point + '_'+ year_string + \"_\" + site )\n",
        "    point_names.append(name)\n",
        "print(point_names)\n",
        "##################################"
      ],
      "execution_count": 49,
      "outputs": [
        {
          "output_type": "stream",
          "text": [
            "['p13_2019_RC0307Rf', 'p30_2019_RC0307Rf', 'p23_2019_RC0307Rf', 'p16_2019_RC0307Rf', 'p17_2019_RC0307Rf', 'p21_2019_RC0307Rf', 'p24_2019_RC0307Rf', 'p18_2019_RC0307Rf', 'p19_2019_RC0307Rf', 'p14_2019_RC0307Rf', 'p15_2019_RC0307Rf', 'p20_2019_RC0307Rf']\n"
          ],
          "name": "stdout"
        }
      ]
    },
    {
      "cell_type": "code",
      "metadata": {
        "id": "VBfIAXWSdyEr",
        "colab_type": "code",
        "colab": {}
      },
      "source": [
        "# espg:26949 is Arizona State Plane Central Meters\n",
        "cs2cs_args = CRS.from_epsg(26949)\n",
        "# cs2cs_args = CRS(init=\"epsg:26949\")\n",
        "# #print(\"using projection {cs3cs_args}\")\n",
        "#trans =  pyproj.Proj(init=cs2cs_args)\n",
        "trans = pyproj.Proj(cs2cs_args)"
      ],
      "execution_count": 50,
      "outputs": []
    },
    {
      "cell_type": "code",
      "metadata": {
        "id": "3P_RKjvhdyEw",
        "colab_type": "code",
        "colab": {
          "base_uri": "https://localhost:8080/",
          "height": 52
        },
        "outputId": "bb98c4c8-2ce2-4f2a-e067-1659964b60a5"
      },
      "source": [
        "# create the NEmax and NEmin\n",
        "E_max = np.max(mappts[:,0]) + extent_buffer_in_meters\n",
        "E_min = np.min(mappts[:,0]) - extent_buffer_in_meters\n",
        "N_max = np.max(mappts[:,1]) + extent_buffer_in_meters\n",
        "N_min = np.min(mappts[:,1]) - extent_buffer_in_meters\n",
        "\n",
        "\n",
        "print(E_max,N_max)\n",
        "print(E_min,N_min)\n",
        "\n",
        "ENminlon, ENminLat = trans(E_min,N_min,inverse = True)\n",
        "ENmaxlon, ENmaxlat = trans(E_max,N_max,inverse = True)\n",
        "ENmax_coords = (ENmaxlon, ENmaxlat)\n",
        "ENmin_coords = (ENminlon, ENminLat)"
      ],
      "execution_count": 51,
      "outputs": [
        {
          "output_type": "stream",
          "text": [
            "219601.88 611833.324\n",
            "219485.123 611703.189\n"
          ],
          "name": "stdout"
        }
      ]
    },
    {
      "cell_type": "code",
      "metadata": {
        "id": "fHO_BCyZdyEy",
        "colab_type": "code",
        "colab": {
          "base_uri": "https://localhost:8080/",
          "height": 54
        },
        "outputId": "7e65fe92-21c1-4da7-d28b-c36f5ed4ada4"
      },
      "source": [
        "# convert points to Lat, long\n",
        "coords = []\n",
        "for point in mappts:\n",
        "    lon, lat = trans(point[0],point[1],inverse = True)\n",
        "    coords.append((lon,lat))\n",
        "print(coords)    "
      ],
      "execution_count": 52,
      "outputs": [
        {
          "output_type": "stream",
          "text": [
            "[(-111.84763569412608, 36.51633009244613), (-111.84763274750169, 36.51621582179101), (-111.84765801455917, 36.51610257685405), (-111.84786072659567, 36.51608212752322), (-111.84788035861826, 36.51597722482215), (-111.84794336165332, 36.51589150759663), (-111.84778464691585, 36.51582981590134), (-111.84794001556021, 36.51569817942503), (-111.84764888713146, 36.5159200783115), (-111.8476354444614, 36.515718651102844), (-111.84756458246197, 36.51600356597832), (-111.84730951936649, 36.51604610996363)]\n"
          ],
          "name": "stdout"
        }
      ]
    },
    {
      "cell_type": "code",
      "metadata": {
        "id": "eqB_GD2IdyE0",
        "colab_type": "code",
        "colab": {
          "base_uri": "https://localhost:8080/",
          "height": 52
        },
        "outputId": "395a5b72-a6df-455a-b8b8-5ebd0f003514"
      },
      "source": [
        "# add points to a kml file\n",
        "kml = simplekml.Kml()\n",
        "for i in range(len(point_names)):\n",
        "    kml.newpoint(name = point_names[i], coords=[(coords[i])] )\n",
        "\n",
        "NE_max_name = str(site + '_NE_max')\n",
        "NE_min_name = str(site + '_NE_min')\n",
        "kml.newpoint(name = NE_max_name, coords =[(ENmax_coords)] )\n",
        "kml.newpoint(name = NE_min_name, coords =[(ENmin_coords)] )\n",
        "\n",
        "kml_name = str('panels' + year_string +\"_\" +site +'.kml')\n",
        "# export the kml file \n",
        "kml.save(Output_dir+ os.sep + kml_name)\n",
        "print(f'kml for site {site} created, filename is {kml_name}')\n",
        "print(f'NE max point = {ENmax_coords}, NE min point = {ENmin_coords}')"
      ],
      "execution_count": 53,
      "outputs": [
        {
          "output_type": "stream",
          "text": [
            "kml for site RC0307Rf created, filename is panels2019_RC0307Rf.kml\n",
            "NE max point = (-111.8469740653941, 36.51660008144793), NE min point = (-111.84827872605499, 36.515428000327645)\n"
          ],
          "name": "stdout"
        }
      ]
    },
    {
      "cell_type": "code",
      "metadata": {
        "id": "OsMso_oZdyE2",
        "colab_type": "code",
        "colab": {}
      },
      "source": [
        ""
      ],
      "execution_count": 48,
      "outputs": []
    }
  ]
}